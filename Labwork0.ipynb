{
 "cells": [
  {
   "cell_type": "markdown",
   "id": "c32264b0-1491-43f9-8b0b-ccb15ce84b3f",
   "metadata": {
    "editable": true,
    "slideshow": {
     "slide_type": ""
    },
    "tags": []
   },
   "source": [
    "# Country - Greece\n",
    "## Area and Population\n",
    "### Government System\n",
    "#### Famous Personalities\n",
    "##### Cultural\n",
    "###### Natural Monuments"
   ]
  },
  {
   "cell_type": "markdown",
   "id": "f33bfd3d-ce3b-4b7b-84d1-dbe667acfdac",
   "metadata": {
    "editable": true,
    "slideshow": {
     "slide_type": ""
    },
    "tags": []
   },
   "source": [
    "## Area and Population\n",
    "\n",
    "- __Area: 131,957 km²__\n",
    "- *Population: 10.7 million (as of 2021)*\n"
   ]
  },
  {
   "cell_type": "markdown",
   "id": "4d4a0c2a-7cd0-47af-b318-7309ae80836f",
   "metadata": {},
   "source": [
    "### Government System\n",
    "\n",
    "Greece is a parliamentary republic. The head of state is the president, who is elected by parliament for a five-year term.\n"
   ]
  },
  {
   "cell_type": "markdown",
   "id": "7a917084-c64f-41da-bcd6-76c62099e6fd",
   "metadata": {},
   "source": [
    "#### Famous Personalities\n",
    "\n",
    "1. Alexander the Great — a renowned military commander and king.\n",
    "2. Socrates — philosopher, one of the founders of Western philosophy.\n",
    "3. Homer — an ancient Greek poet, author of the \"Iliad\" and the \"Odyssey\"."
   ]
  },
  {
   "cell_type": "markdown",
   "id": "af8e6fb2-e4d6-46c9-a58e-1c5037e9b923",
   "metadata": {},
   "source": [
    "<span style=\"color:blue\">Blue text</span>\n",
    "<span style=\"color:red\">Red text</span>\n"
   ]
  },
  {
   "cell_type": "markdown",
   "id": "c015aa2b-76fe-4db6-8a07-aafcee4781a1",
   "metadata": {},
   "source": [
    "<div style=\"border: 1px solid black; padding: 10px;\">\n",
    "  This is text with a border.\n",
    "</div>"
   ]
  },
  {
   "cell_type": "markdown",
   "id": "02a08c07-9ef5-453d-83ea-9778047ce283",
   "metadata": {},
   "source": [
    "| Area (km²) | Population | Capital |\n",
    "|------------|-------------|---------|\n",
    "| 131,957    | 10.7 million| Athens  |"
   ]
  },
  {
   "cell_type": "markdown",
   "id": "749a41d4-be9e-4565-abac-0b89e3e5f2f7",
   "metadata": {},
   "source": [
    "- Greece\n",
    "  - History\n",
    "  - Geography\n",
    "    1. Islands\n",
    "    2. Mountains"
   ]
  },
  {
   "cell_type": "markdown",
   "id": "a9f51f95-37ab-41e9-9c09-64adfb27969e",
   "metadata": {},
   "source": [
    "![Greece Flag](https://upload.wikimedia.org/wikipedia/commons/thumb/5/5c/Flag_of_Greece.svg/1280px-Flag_of_Greece.svg.png)"
   ]
  },
  {
   "cell_type": "markdown",
   "id": "24bfca58-4543-48d4-95f5-fd744031cccb",
   "metadata": {},
   "source": [
    "[More about Greece](https://en.wikipedia.org/wiki/Greece)"
   ]
  },
  {
   "cell_type": "code",
   "execution_count": 3,
   "id": "10281bcb-fd0d-4990-bde4-762fc72b67d9",
   "metadata": {},
   "outputs": [
    {
     "data": {
      "text/html": [
       "<svg xmlns=\"http://www.w3.org/2000/svg\" width=\"600\" height=\"400\" viewBox=\"0 0 27 18\">\n",
       "<rect fill=\"#0D5EAF\" width=\"27\" height=\"18\"/>\n",
       "<path fill=\"none\" stroke-width=\"2\" stroke=\"#FFF\" d=\"M5,0V11 M0,5H10 M10,3H27 M10,7H27 M0,11H27 M0,15H27\"/>\n",
       "</svg>\n"
      ],
      "text/plain": [
       "<IPython.core.display.HTML object>"
      ]
     },
     "metadata": {},
     "output_type": "display_data"
    }
   ],
   "source": [
    "%%HTML\n",
    "<svg xmlns=\"http://www.w3.org/2000/svg\" width=\"600\" height=\"400\" viewBox=\"0 0 27 18\">\n",
    "<rect fill=\"#0D5EAF\" width=\"27\" height=\"18\"/>\n",
    "<path fill=\"none\" stroke-width=\"2\" stroke=\"#FFF\" d=\"M5,0V11 M0,5H10 M10,3H27 M10,7H27 M0,11H27 M0,15H27\"/>\n",
    "</svg>"
   ]
  },
  {
   "cell_type": "code",
   "execution_count": 4,
   "id": "375f3c33-4057-49ca-a319-4bd4c0c27838",
   "metadata": {},
   "outputs": [
    {
     "name": "stdin",
     "output_type": "stream",
     "text": [
      "Enter an even number greater than 2:  2\n"
     ]
    },
    {
     "name": "stdout",
     "output_type": "stream",
     "text": [
      "The number must be even and greater than 2\n"
     ]
    }
   ],
   "source": [
    "def is_prime(n):\n",
    "    if n < 2:\n",
    "        return False\n",
    "    for i in range(2, int(n**0.5) + 1):\n",
    "        if n % i == 0:\n",
    "            return False\n",
    "    return True\n",
    "\n",
    "def goldbach_conjecture(n):\n",
    "    if n <= 2 or n % 2 != 0:\n",
    "        return \"The number must be even and greater than 2\"\n",
    "    \n",
    "    for i in range(2, n):\n",
    "        if is_prime(i) and is_prime(n - i):\n",
    "            return f\"The number {n} can be represented as {i} + {n - i}\"\n",
    "    \n",
    "    return \"Number representation could not be found\"\n",
    "\n",
    "def task_1():\n",
    "    num = int(input(\"Enter an even number greater than 2: \"))\n",
    "    result = goldbach_conjecture(num)\n",
    "    print(result)\n",
    "\n",
    "task_1()"
   ]
  },
  {
   "cell_type": "code",
   "execution_count": 5,
   "id": "ef743dca-ced0-476e-b63c-98507fc27cc0",
   "metadata": {},
   "outputs": [
    {
     "name": "stdin",
     "output_type": "stream",
     "text": [
      "Enter an even number greater than 2:  77\n"
     ]
    },
    {
     "name": "stdout",
     "output_type": "stream",
     "text": [
      "The number must be even and greater than 2\n"
     ]
    }
   ],
   "source": [
    "def is_prime(n):\n",
    "    if n < 2:\n",
    "        return False\n",
    "    for i in range(2, int(n**0.5) + 1):\n",
    "        if n % i == 0:\n",
    "            return False\n",
    "    return True\n",
    "\n",
    "def goldbach_conjecture(n):\n",
    "    if n <= 2 or n % 2 != 0:\n",
    "        return \"The number must be even and greater than 2\"\n",
    "    \n",
    "    for i in range(2, n):\n",
    "        if is_prime(i) and is_prime(n - i):\n",
    "            return f\"The number {n} can be represented as {i} + {n - i}\"\n",
    "    \n",
    "    return \"Number representation could not be found\"\n",
    "\n",
    "def task_1():\n",
    "    num = int(input(\"Enter an even number greater than 2: \"))\n",
    "    result = goldbach_conjecture(num)\n",
    "    print(result)\n",
    "\n",
    "task_1()"
   ]
  },
  {
   "cell_type": "code",
   "execution_count": 6,
   "id": "6d2be23a-9886-4f90-8f0e-ee89fe555d6c",
   "metadata": {},
   "outputs": [
    {
     "name": "stdin",
     "output_type": "stream",
     "text": [
      "Enter an even number greater than 2:  108\n"
     ]
    },
    {
     "name": "stdout",
     "output_type": "stream",
     "text": [
      "The number 108 can be represented as 5 + 103\n"
     ]
    }
   ],
   "source": [
    "def is_prime(n):\n",
    "    if n < 2:\n",
    "        return False\n",
    "    for i in range(2, int(n**0.5) + 1):\n",
    "        if n % i == 0:\n",
    "            return False\n",
    "    return True\n",
    "\n",
    "def goldbach_conjecture(n):\n",
    "    if n <= 2 or n % 2 != 0:\n",
    "        return \"The number must be even and greater than 2\"\n",
    "    \n",
    "    for i in range(2, n):\n",
    "        if is_prime(i) and is_prime(n - i):\n",
    "            return f\"The number {n} can be represented as {i} + {n - i}\"\n",
    "    \n",
    "    return \"Number representation could not be found\"\n",
    "\n",
    "def task_1():\n",
    "    num = int(input(\"Enter an even number greater than 2: \"))\n",
    "    result = goldbach_conjecture(num)\n",
    "    print(result)\n",
    "\n",
    "task_1()"
   ]
  },
  {
   "cell_type": "code",
   "execution_count": 1,
   "id": "ebe9d289-68dc-4842-9157-d5586a64528f",
   "metadata": {},
   "outputs": [
    {
     "name": "stdin",
     "output_type": "stream",
     "text": [
      "Enter an even number greater than 2:  str\n"
     ]
    },
    {
     "ename": "ValueError",
     "evalue": "invalid literal for int() with base 10: 'str'",
     "output_type": "error",
     "traceback": [
      "\u001b[0;31m---------------------------------------------------------------------------\u001b[0m",
      "\u001b[0;31mValueError\u001b[0m                                Traceback (most recent call last)",
      "Cell \u001b[0;32mIn[1], line 24\u001b[0m\n\u001b[1;32m     21\u001b[0m     result \u001b[38;5;241m=\u001b[39m goldbach_conjecture(num)\n\u001b[1;32m     22\u001b[0m     \u001b[38;5;28mprint\u001b[39m(result)\n\u001b[0;32m---> 24\u001b[0m \u001b[43mtask_1\u001b[49m\u001b[43m(\u001b[49m\u001b[43m)\u001b[49m\n",
      "Cell \u001b[0;32mIn[1], line 20\u001b[0m, in \u001b[0;36mtask_1\u001b[0;34m()\u001b[0m\n\u001b[1;32m     19\u001b[0m \u001b[38;5;28;01mdef\u001b[39;00m \u001b[38;5;21mtask_1\u001b[39m():\n\u001b[0;32m---> 20\u001b[0m     num \u001b[38;5;241m=\u001b[39m \u001b[38;5;28;43mint\u001b[39;49m\u001b[43m(\u001b[49m\u001b[38;5;28;43minput\u001b[39;49m\u001b[43m(\u001b[49m\u001b[38;5;124;43m\"\u001b[39;49m\u001b[38;5;124;43mEnter an even number greater than 2: \u001b[39;49m\u001b[38;5;124;43m\"\u001b[39;49m\u001b[43m)\u001b[49m\u001b[43m)\u001b[49m\n\u001b[1;32m     21\u001b[0m     result \u001b[38;5;241m=\u001b[39m goldbach_conjecture(num)\n\u001b[1;32m     22\u001b[0m     \u001b[38;5;28mprint\u001b[39m(result)\n",
      "\u001b[0;31mValueError\u001b[0m: invalid literal for int() with base 10: 'str'"
     ]
    }
   ],
   "source": [
    "def is_prime(n):\n",
    "    if n < 2:\n",
    "        return False\n",
    "    for i in range(2, int(n**0.5) + 1):\n",
    "        if n % i == 0:\n",
    "            return False\n",
    "    return True\n",
    "\n",
    "def goldbach_conjecture(n):\n",
    "    if n <= 2 or n % 2 != 0:\n",
    "        return \"The number must be even and greater than 2\"\n",
    "    \n",
    "    for i in range(2, n):\n",
    "        if is_prime(i) and is_prime(n - i):\n",
    "            return f\"The number {n} can be represented as {i} + {n - i}\"\n",
    "    \n",
    "    return \"Number representation could not be found\"\n",
    "\n",
    "def task_1():\n",
    "    num = int(input(\"Enter an even number greater than 2: \"))\n",
    "    result = goldbach_conjecture(num)\n",
    "    print(result)\n",
    "\n",
    "task_1()"
   ]
  },
  {
   "cell_type": "code",
   "execution_count": null,
   "id": "d99babda-3fcd-4c63-8975-f600e160dffe",
   "metadata": {},
   "outputs": [],
   "source": []
  }
 ],
 "metadata": {
  "kernelspec": {
   "display_name": "Python 3 (ipykernel)",
   "language": "python",
   "name": "python3"
  },
  "language_info": {
   "codemirror_mode": {
    "name": "ipython",
    "version": 3
   },
   "file_extension": ".py",
   "mimetype": "text/x-python",
   "name": "python",
   "nbconvert_exporter": "python",
   "pygments_lexer": "ipython3",
   "version": "3.12.5"
  }
 },
 "nbformat": 4,
 "nbformat_minor": 5
}
