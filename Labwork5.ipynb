{
 "cells": [
  {
   "cell_type": "code",
   "execution_count": 1,
   "id": "9022eeb3-eef1-4657-b917-b4b0054e1fb2",
   "metadata": {},
   "outputs": [
    {
     "name": "stdout",
     "output_type": "stream",
     "text": [
      "Requirement already satisfied: opencv-python in /usr/local/Cellar/jupyterlab/4.2.5_1/libexec/lib/python3.12/site-packages (4.10.0.84)\n",
      "Requirement already satisfied: numpy>=1.21.2 in /usr/local/Cellar/jupyterlab/4.2.5_1/libexec/lib/python3.12/site-packages (from opencv-python) (2.1.1)\n",
      "\n",
      "\u001b[1m[\u001b[0m\u001b[34;49mnotice\u001b[0m\u001b[1;39;49m]\u001b[0m\u001b[39;49m A new release of pip is available: \u001b[0m\u001b[31;49m24.2\u001b[0m\u001b[39;49m -> \u001b[0m\u001b[32;49m24.3.1\u001b[0m\n",
      "\u001b[1m[\u001b[0m\u001b[34;49mnotice\u001b[0m\u001b[1;39;49m]\u001b[0m\u001b[39;49m To update, run: \u001b[0m\u001b[32;49m/usr/local/Cellar/jupyterlab/4.2.5_1/libexec/bin/python -m pip install --upgrade pip\u001b[0m\n",
      "Note: you may need to restart the kernel to use updated packages.\n"
     ]
    }
   ],
   "source": [
    "pip install opencv-python\n"
   ]
  },
  {
   "cell_type": "code",
   "execution_count": 87,
   "id": "b4d6493c-91d0-45d7-a430-549fa00d1e7f",
   "metadata": {},
   "outputs": [],
   "source": [
    "import cv2\n",
    "import numpy as np\n",
    "from PIL import Image, ImageDraw\n",
    "import pandas as pd"
   ]
  },
  {
   "cell_type": "code",
   "execution_count": 88,
   "id": "c3634af5-c350-44e4-8208-f7ce2c7b9569",
   "metadata": {},
   "outputs": [
    {
     "name": "stdout",
     "output_type": "stream",
     "text": [
      "N                             4\n",
      "file name        longbottom.jpg\n",
      "image size              600x600\n",
      "glasses color           magenta\n",
      "line width                    5\n",
      "Name: 3, dtype: object\n"
     ]
    }
   ],
   "source": [
    "file_path = './labwork5dataset/lab6.xlsx'\n",
    "df = pd.read_excel(file_path)\n",
    "\n",
    "variant_number = ord(\"D\") % 5 + 1\n",
    "variant_data = df[df['N'] == variant_number].iloc[0]\n",
    "print(variant_data)\n",
    "\n",
    "image_filename = variant_data['file name']\n",
    "glasses_color = variant_data['glasses color']\n",
    "line_width = variant_data['line width']\n",
    "output_size = tuple(map(int, variant_data['image size'].split('x')))\n",
    "\n",
    "image_path = f'./labwork5dataset/images/{image_filename}'\n",
    "output_path_with_brackets = './labwork5dataset/longbottom_with_glasses_and_brackets.jpg'"
   ]
  },
  {
   "cell_type": "code",
   "execution_count": 95,
   "id": "1c6c1bf3-78f7-42a2-b0e3-f4edf5e77d08",
   "metadata": {},
   "outputs": [
    {
     "name": "stdout",
     "output_type": "stream",
     "text": [
      "Saved output with adjusted ear-arm brackets to ./labwork5dataset/longbottom_with_glasses_and_brackets.jpg\n"
     ]
    }
   ],
   "source": [
    "def draw_glasses_with_brackets(image_path, output_path, glasses_color=\"magenta\", line_width=5):\n",
    "    # Load the image and convert to grayscale for face and eye detection\n",
    "    image = cv2.imread(image_path)\n",
    "    gray = cv2.cvtColor(image, cv2.COLOR_BGR2GRAY)\n",
    "    \n",
    "    # Load Haar Cascade for face and eye detection\n",
    "    face_cascade = cv2.CascadeClassifier(cv2.data.haarcascades + 'haarcascade_frontalface_default.xml')\n",
    "    eye_cascade = cv2.CascadeClassifier(cv2.data.haarcascades + 'haarcascade_eye.xml')\n",
    "    \n",
    "    # Detect faces\n",
    "    faces = face_cascade.detectMultiScale(gray, scaleFactor=1.1, minNeighbors=5, minSize=(100, 100))\n",
    "    \n",
    "    if len(faces) == 0:\n",
    "        print(\"No face detected.\")\n",
    "        return\n",
    "    \n",
    "    # We assume only one face in the image for simplicity\n",
    "    for (x, y, w, h) in faces:\n",
    "        # Center face in the output image if needed\n",
    "        face_center_x, face_center_y = x + w // 2, y + h // 2\n",
    "        # Detect eyes within the face region\n",
    "        roi_gray = gray[y:y+h, x:x+w]\n",
    "        roi_color = image[y:y+h, x:x+w]\n",
    "        eyes = eye_cascade.detectMultiScale(roi_gray)\n",
    "        \n",
    "        # We assume two eyes detected\n",
    "        if len(eyes) < 2:\n",
    "            print(\"Could not detect both eyes.\")\n",
    "            return\n",
    "        \n",
    "        # Sort eyes by x-coordinate (left to right)\n",
    "        eyes = sorted(eyes, key=lambda e: e[0])\n",
    "        eye_centers = []\n",
    "        \n",
    "        for (ex, ey, ew, eh) in eyes[:2]:  # Take only the first two eyes\n",
    "            eye_centers.append((x + ex + ew // 2, y + ey + eh // 2))\n",
    "\n",
    "        # Draw glasses\n",
    "        pil_image = Image.fromarray(cv2.cvtColor(image, cv2.COLOR_BGR2RGB))\n",
    "        draw = ImageDraw.Draw(pil_image)\n",
    "        \n",
    "        # Draw circles around eyes\n",
    "        for center in eye_centers:\n",
    "            draw.ellipse(\n",
    "                (center[0] - ew // 2, center[1] - eh // 2, center[0] + ew // 2, center[1] + eh // 2),\n",
    "                outline=glasses_color,\n",
    "                width=line_width\n",
    "            )\n",
    "        \n",
    "        # Draw a line between the glasses with slight vertical adjustment\n",
    "        midpoint_y = (eye_centers[0][1] + eye_centers[1][1]) // 2  # Centered vertically\n",
    "        draw.line(\n",
    "            (eye_centers[0][0] + ew // 2, midpoint_y, eye_centers[1][0] - ew // 2, midpoint_y),\n",
    "            fill=glasses_color,\n",
    "            width=line_width\n",
    "        )\n",
    "        \n",
    "         # Draw angled brackets (ear arms) with an upward slope\n",
    "        bracket_length = int(ew * 0.7)  # Adjusted length for a more natural look\n",
    "        angle_offset = int(eh * 0.1)    # Adjust this value to control the upward angle\n",
    "        \n",
    "        # Left bracket\n",
    "        draw.line(\n",
    "            (eye_centers[0][0] - ew // 2, eye_centers[0][1], eye_centers[0][0] - ew // 2 - bracket_length, eye_centers[0][1] - angle_offset),\n",
    "            fill=glasses_color,\n",
    "            width=line_width\n",
    "        )\n",
    "        # Right bracket\n",
    "        draw.line(\n",
    "            (eye_centers[1][0] + ew // 2, eye_centers[1][1], eye_centers[1][0] + ew // 2 + bracket_length, eye_centers[1][1] - angle_offset),\n",
    "            fill=glasses_color,\n",
    "            width=line_width\n",
    "        )\n",
    "\n",
    "        pil_image = pil_image.resize(output_size, Image.LANCZOS)\n",
    "        \n",
    "        # Save the result\n",
    "        pil_image.save(output_path)\n",
    "        print(f\"Saved output with adjusted ear-arm brackets to {output_path}\")\n",
    "\n",
    "draw_glasses_with_brackets(image_path, output_path_with_brackets, glasses_color, line_width)"
   ]
  }
 ],
 "metadata": {
  "kernelspec": {
   "display_name": "Python 3 (ipykernel)",
   "language": "python",
   "name": "python3"
  },
  "language_info": {
   "codemirror_mode": {
    "name": "ipython",
    "version": 3
   },
   "file_extension": ".py",
   "mimetype": "text/x-python",
   "name": "python",
   "nbconvert_exporter": "python",
   "pygments_lexer": "ipython3",
   "version": "3.12.5"
  }
 },
 "nbformat": 4,
 "nbformat_minor": 5
}
